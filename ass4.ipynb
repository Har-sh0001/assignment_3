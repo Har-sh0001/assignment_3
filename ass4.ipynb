{
 "cells": [
  {
   "cell_type": "code",
   "execution_count": null,
   "id": "43bc6832-f28a-4fbf-8528-73b5ba82ea34",
   "metadata": {},
   "outputs": [],
   "source": []
  },
  {
   "cell_type": "code",
   "execution_count": 1,
   "id": "495243bb-eeef-4f5a-b6af-0c8ae66c6d98",
   "metadata": {},
   "outputs": [],
   "source": [
    "# qus1. Explain Class and Object with respect to Object-Oriented Programming.\n",
    "# Give a suitable example."
   ]
  },
  {
   "cell_type": "code",
   "execution_count": 2,
   "id": "914e14aa-1247-4aec-962d-cdc4d23f7cc8",
   "metadata": {},
   "outputs": [],
   "source": [
    "# *Classes* in Python provide a blueprint for creating objects (data structures), providing initial values for state (member variables or attributes), and implementations of behavior (member functions or methods).\n",
    "# Classes are a way to organize code and encapsulate data and functions that operate on that data within objects.\n",
    "\n",
    "# An *object* is an instance of a class. Objects are created from class templates and store their own state, which is stored in attributes, and implement behavior, which is provided by methods. The state and behavior of an object can be manipulated through method calls."
   ]
  },
  {
   "cell_type": "code",
   "execution_count": 3,
   "id": "17284162-bd41-47c3-ac64-3de9fde775d9",
   "metadata": {},
   "outputs": [],
   "source": [
    "class house:\n",
    "    def __init__(self, total_rooms, total_floors, area):\n",
    "        self.total_rooms = total_rooms\n",
    "        self.total_floors = total_floors\n",
    "        self.area = area\n",
    "        \n",
    "    def buy_or_not(self):\n",
    "        if self.total_rooms<3:\n",
    "            print(\"Not Buying\")\n",
    "        else:\n",
    "            print(\"Buying\")"
   ]
  },
  {
   "cell_type": "code",
   "execution_count": 4,
   "id": "9a5838c6-137c-4a29-a9d3-17f3e2f52403",
   "metadata": {},
   "outputs": [],
   "source": [
    "client_1 = house(5,2,56) # object 1\n",
    "client_2 = house(2,1,44) # object 2"
   ]
  },
  {
   "cell_type": "code",
   "execution_count": 5,
   "id": "0232ad95-a7ee-40e7-9186-89ef089d7948",
   "metadata": {},
   "outputs": [
    {
     "name": "stdout",
     "output_type": "stream",
     "text": [
      "Buying\n"
     ]
    }
   ],
   "source": [
    "client_1.buy_or_not()"
   ]
  },
  {
   "cell_type": "code",
   "execution_count": 6,
   "id": "8011388a-4666-4e2b-a1ef-fb3a1baf746e",
   "metadata": {},
   "outputs": [
    {
     "name": "stdout",
     "output_type": "stream",
     "text": [
      "Not Buying\n"
     ]
    }
   ],
   "source": [
    "client_2.buy_or_not()"
   ]
  },
  {
   "cell_type": "code",
   "execution_count": 7,
   "id": "f09b7a58-301a-45d7-8f16-b4c9a1cfbab0",
   "metadata": {},
   "outputs": [],
   "source": [
    "# qus2.Name the four pillars of OOPS."
   ]
  },
  {
   "cell_type": "code",
   "execution_count": 8,
   "id": "20fdafe0-558c-40af-8d05-0f530eb936b9",
   "metadata": {},
   "outputs": [],
   "source": [
    "# The four pillars of OOPS are:\n",
    "# 1. Inheritance\n",
    "# 2. Polymorphism\n",
    "# 3. Encapsulation, and\n",
    "# 4. Abstraction"
   ]
  },
  {
   "cell_type": "code",
   "execution_count": 9,
   "id": "12c08d23-8d14-420a-9176-8a91d52f91f6",
   "metadata": {},
   "outputs": [],
   "source": [
    "# qus3. Explain why the init() function is used. Give a suitable example."
   ]
  },
  {
   "cell_type": "code",
   "execution_count": 10,
   "id": "21c6f402-cbda-4f64-9f41-09aa000c296a",
   "metadata": {},
   "outputs": [],
   "source": [
    "# the init method, also known as the constructor, is used in classes to initialize the object's state when it is created. The init method is called automatically when an object is created from the class, and it sets the initial values for the object's attributes.\n",
    "\n",
    "# In other words, the init method is used to set up the initial state of an object when it is created, so that each object has its own unique set of attributes that define its state."
   ]
  },
  {
   "cell_type": "code",
   "execution_count": 11,
   "id": "058fdca2-6c6a-4a1d-800a-234e7e7b655c",
   "metadata": {},
   "outputs": [],
   "source": [
    "class mobile_phone:\n",
    "    def __init__(self, company_name, model):\n",
    "        self.company_name = company_name\n",
    "        self.model = model\n",
    "    \n",
    "    def display_output(self):\n",
    "        print('Comapny Name: ', self.company_name)\n",
    "        print('Model: ', self.model)"
   ]
  },
  {
   "cell_type": "code",
   "execution_count": 12,
   "id": "da86e7b0-9e1b-42cf-b573-d05d1b2b3813",
   "metadata": {},
   "outputs": [],
   "source": [
    "phone_1 = mobile_phone(\"Samsung\", 'S8')\n",
    "phone_2 = mobile_phone(\"Apple\", 'iPhone 8')"
   ]
  },
  {
   "cell_type": "code",
   "execution_count": 13,
   "id": "c4616fe5-9bf8-4b81-9369-556da3e427cc",
   "metadata": {},
   "outputs": [],
   "source": [
    "#In the above example, we have a mobile_phone class. The init method of this class set up the initial state of objects phone_1 and phone_2 by assigning value to the company_name and model attribute for each object"
   ]
  },
  {
   "cell_type": "code",
   "execution_count": 14,
   "id": "2bff9cce-3e04-4e4d-ba93-5e1f60372a8d",
   "metadata": {},
   "outputs": [],
   "source": [
    "# qus4. Why self is used in OOPS?"
   ]
  },
  {
   "cell_type": "code",
   "execution_count": 15,
   "id": "6b81f152-6758-4c0c-a6a0-83421a0b90b7",
   "metadata": {},
   "outputs": [],
   "source": [
    "# self parameter is used to access the attributes and methods of the current object, and it must be included as the first parameter in every method definition within a class.\n",
    "\n",
    "# By using self as a parameter, you can refer to the attributes and methods of the current instance of the object within the class. This allows you to maintain the state and behavior of each object separately, even if multiple instances of the same class are created."
   ]
  },
  {
   "cell_type": "code",
   "execution_count": 16,
   "id": "59af34e1-9df5-4a69-8cb7-856cf28a0cf7",
   "metadata": {},
   "outputs": [],
   "source": [
    "# qus5. What is inheritance? Give an example for each type of inheritance."
   ]
  },
  {
   "cell_type": "code",
   "execution_count": 17,
   "id": "7602ef05-5559-4c41-a788-de877e452156",
   "metadata": {},
   "outputs": [],
   "source": [
    "# 1. Single Inheritence\n",
    "# In Single inheritance, one class inherits another single class. It is the very basic inheritance where a single child class inherits the properties and functions of a parent class.\n",
    "\n",
    "# By inheriting class A in class B, we can access the properties and function of class A in class B using the super() method."
   ]
  },
  {
   "cell_type": "code",
   "execution_count": 18,
   "id": "4e4559d7-2810-4100-87de-243e497f6475",
   "metadata": {},
   "outputs": [
    {
     "name": "stdout",
     "output_type": "stream",
     "text": [
      "This line is of the parent class\n",
      "This line is of the child class\n"
     ]
    }
   ],
   "source": [
    "class A:\n",
    "    def display(self):\n",
    "        print(\"This line is of the parent class\")\n",
    "        \n",
    "class B(A):\n",
    "    def display(self):\n",
    "        super().display()\n",
    "        print(\"This line is of the child class\")\n",
    "    \n",
    "obj_1= B()\n",
    "obj_1.display()"
   ]
  },
  {
   "cell_type": "code",
   "execution_count": 19,
   "id": "2d985eb7-6df0-4521-9eb1-06b49b3c25b1",
   "metadata": {},
   "outputs": [],
   "source": [
    "# # 2. Multiple Inheritance\n",
    "# In multiple inheritance, one class inherits multiple other classes. In this, the child class has access to the methods and properties of all its parent classes."
   ]
  },
  {
   "cell_type": "code",
   "execution_count": 21,
   "id": "e70a987e-fc45-4d6a-a00b-032d82a664db",
   "metadata": {},
   "outputs": [
    {
     "name": "stdout",
     "output_type": "stream",
     "text": [
      "Hello\n",
      "Hello world!\n",
      "Bye bye!\n"
     ]
    }
   ],
   "source": [
    "class A:\n",
    "    def hello(self):\n",
    "        print(\"Hello\")\n",
    "\n",
    "class B:\n",
    "    def hello_again(self):\n",
    "        print(\"Hello world!\")\n",
    "\n",
    "class C(A,B):\n",
    "    def hello_and_bye(self):\n",
    "        super().hello()\n",
    "        super().hello_again()\n",
    "        print(\"Bye bye!\")\n",
    "        \n",
    "obj_1 = C()\n",
    "obj_1.hello_and_bye()"
   ]
  },
  {
   "cell_type": "code",
   "execution_count": 22,
   "id": "24f4f1be-1598-484b-a3f6-540eecff5186",
   "metadata": {},
   "outputs": [],
   "source": [
    "# 3. Multilevel Inheritance\n",
    "# In multilevel inheritance, the child class inherits another child class. It is the chain of inheritance in which the parent class is the child of some other class."
   ]
  },
  {
   "cell_type": "code",
   "execution_count": 23,
   "id": "59c5ed77-4ba0-4342-88c6-959df947288f",
   "metadata": {},
   "outputs": [
    {
     "name": "stdout",
     "output_type": "stream",
     "text": [
      "This is the first class function\n",
      "This is the second class function, and its also inheriting from the first class\n",
      "This is the third class function, and its also inheriting from the second class\n"
     ]
    }
   ],
   "source": [
    "class A:\n",
    "    def first_func(self):\n",
    "        print('This is the first class function')\n",
    "        \n",
    "class B(A):\n",
    "    def second_func(self):\n",
    "        super().first_func()\n",
    "        print('This is the second class function, and its also inheriting from the first class')\n",
    "        \n",
    "class C(B):\n",
    "    def third_func(self):\n",
    "        super().second_func()\n",
    "        print('This is the third class function, and its also inheriting from the second class')\n",
    "        \n",
    "obj_1 = C()\n",
    "obj_1.third_func()"
   ]
  },
  {
   "cell_type": "code",
   "execution_count": 24,
   "id": "062bc79b-4758-4ca1-a799-ae4460c8b880",
   "metadata": {},
   "outputs": [],
   "source": [
    "# 4. Hierarchical Inheritance\n",
    "# Hierarchical inheritance is a type of inheritance where different multiple classes inherit a single parent class."
   ]
  },
  {
   "cell_type": "code",
   "execution_count": 25,
   "id": "12aaf92c-b472-491e-b92b-e326560b4c5e",
   "metadata": {},
   "outputs": [
    {
     "name": "stdout",
     "output_type": "stream",
     "text": [
      "This is a function from the master class\n",
      "This is a function from the assistant class, and it's inheriing from the master class\n",
      "This is a function from the master class\n",
      "This is a function from the manager class, and it's inheriting from the master calss\n"
     ]
    }
   ],
   "source": [
    "class A():\n",
    "    def master_class_func(self):\n",
    "        print(\"This is a function from the master class\")\n",
    "\n",
    "class B(A):\n",
    "    def assistant_class_func(self):\n",
    "        super().master_class_func()\n",
    "        print(\"This is a function from the assistant class, and it's inheriing from the master class\")\n",
    "        \n",
    "class C(A):\n",
    "    def manager_class_func(self):\n",
    "        super().master_class_func()\n",
    "        print(\"This is a function from the manager class, and it's inheriting from the master calss\")\n",
    "        \n",
    "assistant_obj = B()\n",
    "manager_obj = C()\n",
    "\n",
    "assistant_obj.assistant_class_func()\n",
    "manager_obj.manager_class_func()"
   ]
  },
  {
   "cell_type": "code",
   "execution_count": 26,
   "id": "994b9ae7-309e-4cfe-a881-b5f7d04b4555",
   "metadata": {},
   "outputs": [],
   "source": [
    "# 5. Hybrid Inheritance\n",
    "# Hybrid inheritance in Python is a combination of more than one type of inheritance. It is not any sequence or pattern of inheriting classes but is used as a naming convention where more than one type of inheritance is involved."
   ]
  },
  {
   "cell_type": "code",
   "execution_count": 27,
   "id": "34bcc14a-3f46-432d-819e-d1b920c96494",
   "metadata": {},
   "outputs": [
    {
     "name": "stdout",
     "output_type": "stream",
     "text": [
      "Super Parent display method\n",
      "Class C display method\n",
      "Super Parent display method\n",
      "Class D display method\n"
     ]
    }
   ],
   "source": [
    "class A:\n",
    "    def display(self):\n",
    "        print(\"Super Parent display method\")\n",
    "\n",
    "\n",
    "\"\"\" class B used as intermediate class\n",
    "to call class A's display method \"\"\"\n",
    "class B(A):\n",
    "    def display(self):\n",
    "        super().display()\n",
    "\n",
    "''' child classes '''\n",
    "class C(B):\n",
    "    def display(self):\n",
    "        super().display()\n",
    "        print(\"Class C display method\")\n",
    "        \n",
    "class D(B):\n",
    "    def display(self):\n",
    "        super().display()\n",
    "        print(\"Class D display method\")\n",
    "\n",
    "c = C()\n",
    "c.display()\n",
    "\n",
    "d = D()\n",
    "d.display()"
   ]
  },
  {
   "cell_type": "code",
   "execution_count": null,
   "id": "e90db24c-c0a7-4719-bf40-682c7e078967",
   "metadata": {},
   "outputs": [],
   "source": []
  }
 ],
 "metadata": {
  "kernelspec": {
   "display_name": "Python 3 (ipykernel)",
   "language": "python",
   "name": "python3"
  },
  "language_info": {
   "codemirror_mode": {
    "name": "ipython",
    "version": 3
   },
   "file_extension": ".py",
   "mimetype": "text/x-python",
   "name": "python",
   "nbconvert_exporter": "python",
   "pygments_lexer": "ipython3",
   "version": "3.10.8"
  }
 },
 "nbformat": 4,
 "nbformat_minor": 5
}
